{
 "cells": [
  {
   "cell_type": "markdown",
   "metadata": {},
   "source": [
    "# Notebook to demonstrate the use of hierarchical category encoders"
   ]
  },
  {
   "cell_type": "markdown",
   "metadata": {},
   "source": [
    "Load some important modules"
   ]
  },
  {
   "cell_type": "code",
   "execution_count": 47,
   "metadata": {},
   "outputs": [],
   "source": [
    "import matplotlib.pyplot as plt\n",
    "import numpy as np\n",
    "import pandas as pd\n",
    "\n",
    "from category_encoders import *"
   ]
  },
  {
   "cell_type": "markdown",
   "metadata": {},
   "source": [
    "We are going to use sklearn to predict a target"
   ]
  },
  {
   "cell_type": "code",
   "execution_count": 48,
   "metadata": {},
   "outputs": [],
   "source": [
    "from sklearn.model_selection import train_test_split\n",
    "from sklearn.ensemble import RandomForestClassifier\n",
    "from sklearn import metrics"
   ]
  },
  {
   "cell_type": "markdown",
   "metadata": {},
   "source": [
    "Load the datasets:\n",
    "1. The median house prices per ward in England and Wales (UK)\n",
    "2. The lookup table for Wards to Local Authority District to County to Region to Country"
   ]
  },
  {
   "cell_type": "markdown",
   "metadata": {},
   "source": [
    "The first dataset can be downloaded here:\n",
    "https://www.ons.gov.uk/peoplepopulationandcommunity/housing/datasets/medianpricepaidbywardhpssadataset37\n",
    "\n",
    "The xls spreadsheet has the following sheets:\n",
    "\n",
    "* Cover sheet\n",
    "* Contents\n",
    "* Datasets\n",
    "* Metadata\n",
    "* Terms and Conditions\n",
    "* 1a\n",
    "* 1b\n",
    "* 1c\n",
    "* 1d\n",
    "* 1e\n",
    "* 2a\n",
    "* 2b\n",
    "* 2c\n",
    "* 2d\n",
    "* 2e\n",
    "* 3a\n",
    "* 3b\n",
    "* 3c\n",
    "* 3d\n",
    "* 3e\n",
    "* Related Publications\n",
    "\n",
    "We need the 5th sheet: \"1a\".  I used the ssconvert command from gnumeric to export this sheet into xls:\n",
    "\n",
    "> ssconvert --export-file-per-sheet /Users/lisa/Downloads/HPSSA\\ Dataset\\ 37\\ -\\ Median\\ price\\ paid\\ by\\ ward.xls HPSSA_Dataset_37.csv\n",
    "\n",
    "and then trimmed the top and bottom of the csv to clean it:\n",
    "\n",
    "> sed -e '1,5d; 8060,$d' HPSSA_Dataset_37_1a.csv > HPSSA_Dataset_37_1a.csv\n",
    "\n",
    "The second dataset can be downloaded from here:\n",
    "https://geoportal.statistics.gov.uk/search?collection=Dataset&sort=-created&tags=all(LUP_WD_LAD_CTY_RGN_GOR_CTRY)"
   ]
  },
  {
   "cell_type": "code",
   "execution_count": 49,
   "metadata": {
    "scrolled": true
   },
   "outputs": [],
   "source": [
    "# load the prices dataset\n",
    "\n",
    "import pkg_resources\n",
    "\n",
    "data_filename = \"../data/HPSSA_Dataset_37_1a.csv\"\n",
    "\n",
    "stream = pkg_resources.resource_filename(__name__, data_filename)\n",
    "\n",
    "with open(stream) as f:\n",
    "    df = pd.read_csv(f, encoding='latin-1')\n",
    "    \n",
    "# Remove Incomplete rows\n",
    "df = df[(df['Year ending Mar 2017'] != \":\") & (df['Year ending Mar 2022'] != \":\")]\n",
    "# convert prices to numeric\n",
    "df[['Year ending Mar 2017','Year ending Mar 2022']] = df[['Year ending Mar 2017','Year ending Mar 2022']].astype(float)\n",
    "# remove LA code 'E06000053' as there is only one remaining value - will break the train/test split later\n",
    "df = df[df['Local authority code'] != \"E06000053\"]\n",
    "# remove \"unnamed\" columns:\n",
    "df.drop(list(df.filter(regex = 'Unnamed:')), axis = 1, inplace = True)"
   ]
  },
  {
   "cell_type": "code",
   "execution_count": 50,
   "metadata": {},
   "outputs": [],
   "source": [
    "# load the lookup table:\n",
    "\n",
    "data_filename = \"../data/Ward_lookup_table.csv\"\n",
    "\n",
    "stream = pkg_resources.resource_filename(__name__, data_filename)\n",
    "\n",
    "with open(stream) as f:\n",
    "    lookup = pd.read_csv(f, encoding='latin-1')\n",
    "    \n",
    "    \n",
    "# Clean up the lookup - impute the NaNs with appropriate values (must be filled to make a dictionary later)\n",
    "lookup['RGN20CD'].fillna(lookup['CTRY20CD'], inplace=True)\n",
    "lookup['RGN20NM'].fillna(lookup['CTRY20NM'], inplace=True)\n",
    "lookup['CTY20CD'].fillna(lookup['LAD20CD'], inplace=True)\n",
    "lookup['CTY20NM'].fillna(lookup['LAD20NM'], inplace=True)"
   ]
  },
  {
   "cell_type": "markdown",
   "metadata": {},
   "source": [
    "Add the additional geographic columns to the prices dataset:"
   ]
  },
  {
   "cell_type": "code",
   "execution_count": 51,
   "metadata": {},
   "outputs": [],
   "source": [
    "df_merged = df.merge(lookup[['WD20CD','RGN20CD','RGN20NM','CTRY20CD','CTRY20NM']], left_on='Ward code', right_on='WD20CD')\n",
    "df_merged.drop(['WD20CD'],axis=1,inplace=True)"
   ]
  },
  {
   "cell_type": "code",
   "execution_count": 52,
   "metadata": {
    "scrolled": true
   },
   "outputs": [
    {
     "data": {
      "text/html": [
       "<div>\n",
       "<style scoped>\n",
       "    .dataframe tbody tr th:only-of-type {\n",
       "        vertical-align: middle;\n",
       "    }\n",
       "\n",
       "    .dataframe tbody tr th {\n",
       "        vertical-align: top;\n",
       "    }\n",
       "\n",
       "    .dataframe thead th {\n",
       "        text-align: right;\n",
       "    }\n",
       "</style>\n",
       "<table border=\"1\" class=\"dataframe\">\n",
       "  <thead>\n",
       "    <tr style=\"text-align: right;\">\n",
       "      <th></th>\n",
       "      <th>Local authority code</th>\n",
       "      <th>Local authority name</th>\n",
       "      <th>Ward code</th>\n",
       "      <th>Ward name</th>\n",
       "      <th>Year ending Dec 1995</th>\n",
       "      <th>Year ending Mar 1996</th>\n",
       "      <th>Year ending Jun 1996</th>\n",
       "      <th>Year ending Sep 1996</th>\n",
       "      <th>Year ending Dec 1996</th>\n",
       "      <th>Year ending Mar 1997</th>\n",
       "      <th>...</th>\n",
       "      <th>Year ending Dec 2020</th>\n",
       "      <th>Year ending Mar 2021</th>\n",
       "      <th>Year ending Jun 2021</th>\n",
       "      <th>Year ending Sep 2021</th>\n",
       "      <th>Year ending Dec 2021</th>\n",
       "      <th>Year ending Mar 2022</th>\n",
       "      <th>RGN20CD</th>\n",
       "      <th>RGN20NM</th>\n",
       "      <th>CTRY20CD</th>\n",
       "      <th>CTRY20NM</th>\n",
       "    </tr>\n",
       "  </thead>\n",
       "  <tbody>\n",
       "    <tr>\n",
       "      <th>0</th>\n",
       "      <td>E06000001</td>\n",
       "      <td>Hartlepool</td>\n",
       "      <td>E05008945</td>\n",
       "      <td>Foggy Furze</td>\n",
       "      <td>39000</td>\n",
       "      <td>39000</td>\n",
       "      <td>39000</td>\n",
       "      <td>38625</td>\n",
       "      <td>38250</td>\n",
       "      <td>38250</td>\n",
       "      <td>...</td>\n",
       "      <td>107500</td>\n",
       "      <td>111250</td>\n",
       "      <td>111750</td>\n",
       "      <td>115000</td>\n",
       "      <td>115500</td>\n",
       "      <td>115500.0</td>\n",
       "      <td>E12000001</td>\n",
       "      <td>North East</td>\n",
       "      <td>E92000001</td>\n",
       "      <td>England</td>\n",
       "    </tr>\n",
       "    <tr>\n",
       "      <th>1</th>\n",
       "      <td>E06000001</td>\n",
       "      <td>Hartlepool</td>\n",
       "      <td>E05008946</td>\n",
       "      <td>Hart</td>\n",
       "      <td>56500</td>\n",
       "      <td>56500</td>\n",
       "      <td>56500</td>\n",
       "      <td>56950</td>\n",
       "      <td>58425</td>\n",
       "      <td>59950</td>\n",
       "      <td>...</td>\n",
       "      <td>160000</td>\n",
       "      <td>163000</td>\n",
       "      <td>166500</td>\n",
       "      <td>166000</td>\n",
       "      <td>166500</td>\n",
       "      <td>168000.0</td>\n",
       "      <td>E12000001</td>\n",
       "      <td>North East</td>\n",
       "      <td>E92000001</td>\n",
       "      <td>England</td>\n",
       "    </tr>\n",
       "    <tr>\n",
       "      <th>2</th>\n",
       "      <td>E06000001</td>\n",
       "      <td>Hartlepool</td>\n",
       "      <td>E05008947</td>\n",
       "      <td>Headland and Harbour</td>\n",
       "      <td>30950</td>\n",
       "      <td>33950</td>\n",
       "      <td>34975</td>\n",
       "      <td>33950</td>\n",
       "      <td>34950</td>\n",
       "      <td>30750</td>\n",
       "      <td>...</td>\n",
       "      <td>90000</td>\n",
       "      <td>90000</td>\n",
       "      <td>96250</td>\n",
       "      <td>90000</td>\n",
       "      <td>94750</td>\n",
       "      <td>97250.0</td>\n",
       "      <td>E12000001</td>\n",
       "      <td>North East</td>\n",
       "      <td>E92000001</td>\n",
       "      <td>England</td>\n",
       "    </tr>\n",
       "    <tr>\n",
       "      <th>3</th>\n",
       "      <td>E06000001</td>\n",
       "      <td>Hartlepool</td>\n",
       "      <td>E05008943</td>\n",
       "      <td>De Bruce</td>\n",
       "      <td>38000</td>\n",
       "      <td>38000</td>\n",
       "      <td>37000</td>\n",
       "      <td>30500</td>\n",
       "      <td>30000</td>\n",
       "      <td>30500</td>\n",
       "      <td>...</td>\n",
       "      <td>134500</td>\n",
       "      <td>120000</td>\n",
       "      <td>119500</td>\n",
       "      <td>114950</td>\n",
       "      <td>115000</td>\n",
       "      <td>97000.0</td>\n",
       "      <td>E12000001</td>\n",
       "      <td>North East</td>\n",
       "      <td>E92000001</td>\n",
       "      <td>England</td>\n",
       "    </tr>\n",
       "    <tr>\n",
       "      <th>4</th>\n",
       "      <td>E06000001</td>\n",
       "      <td>Hartlepool</td>\n",
       "      <td>E05008944</td>\n",
       "      <td>Fens and Rossmere</td>\n",
       "      <td>51000</td>\n",
       "      <td>51000</td>\n",
       "      <td>50000</td>\n",
       "      <td>47975</td>\n",
       "      <td>47500</td>\n",
       "      <td>47500</td>\n",
       "      <td>...</td>\n",
       "      <td>131000</td>\n",
       "      <td>136375</td>\n",
       "      <td>144000</td>\n",
       "      <td>145000</td>\n",
       "      <td>145500</td>\n",
       "      <td>149000.0</td>\n",
       "      <td>E12000001</td>\n",
       "      <td>North East</td>\n",
       "      <td>E92000001</td>\n",
       "      <td>England</td>\n",
       "    </tr>\n",
       "  </tbody>\n",
       "</table>\n",
       "<p>5 rows × 114 columns</p>\n",
       "</div>"
      ],
      "text/plain": [
       "  Local authority code Local authority name  Ward code             Ward name  \\\n",
       "0            E06000001           Hartlepool  E05008945           Foggy Furze   \n",
       "1            E06000001           Hartlepool  E05008946                  Hart   \n",
       "2            E06000001           Hartlepool  E05008947  Headland and Harbour   \n",
       "3            E06000001           Hartlepool  E05008943              De Bruce   \n",
       "4            E06000001           Hartlepool  E05008944     Fens and Rossmere   \n",
       "\n",
       "  Year ending Dec 1995 Year ending Mar 1996 Year ending Jun 1996  \\\n",
       "0                39000                39000                39000   \n",
       "1                56500                56500                56500   \n",
       "2                30950                33950                34975   \n",
       "3                38000                38000                37000   \n",
       "4                51000                51000                50000   \n",
       "\n",
       "  Year ending Sep 1996 Year ending Dec 1996 Year ending Mar 1997  ...  \\\n",
       "0                38625                38250                38250  ...   \n",
       "1                56950                58425                59950  ...   \n",
       "2                33950                34950                30750  ...   \n",
       "3                30500                30000                30500  ...   \n",
       "4                47975                47500                47500  ...   \n",
       "\n",
       "  Year ending Dec 2020 Year ending Mar 2021 Year ending Jun 2021  \\\n",
       "0               107500               111250               111750   \n",
       "1               160000               163000               166500   \n",
       "2                90000                90000                96250   \n",
       "3               134500               120000               119500   \n",
       "4               131000               136375               144000   \n",
       "\n",
       "  Year ending Sep 2021 Year ending Dec 2021 Year ending Mar 2022    RGN20CD  \\\n",
       "0               115000               115500             115500.0  E12000001   \n",
       "1               166000               166500             168000.0  E12000001   \n",
       "2                90000                94750              97250.0  E12000001   \n",
       "3               114950               115000              97000.0  E12000001   \n",
       "4               145000               145500             149000.0  E12000001   \n",
       "\n",
       "      RGN20NM   CTRY20CD CTRY20NM  \n",
       "0  North East  E92000001  England  \n",
       "1  North East  E92000001  England  \n",
       "2  North East  E92000001  England  \n",
       "3  North East  E92000001  England  \n",
       "4  North East  E92000001  England  \n",
       "\n",
       "[5 rows x 114 columns]"
      ]
     },
     "execution_count": 52,
     "metadata": {},
     "output_type": "execute_result"
    }
   ],
   "source": [
    "df_merged.head()"
   ]
  },
  {
   "cell_type": "markdown",
   "metadata": {},
   "source": [
    "Create a specific modelling dataset:"
   ]
  },
  {
   "cell_type": "code",
   "execution_count": 53,
   "metadata": {},
   "outputs": [],
   "source": [
    "# Note we will not use the column 'Year ending Mar 2022' in the features - we just need it right now for the baseline!\n",
    "X = df_merged[['Local authority code','Local authority name','Ward code','Ward name','RGN20CD','RGN20NM','CTRY20CD','CTRY20NM','Year ending Mar 2017','Year ending Mar 2022']]\n",
    "y = df_merged['Year ending Mar 2022']"
   ]
  },
  {
   "cell_type": "markdown",
   "metadata": {},
   "source": [
    "## Features"
   ]
  },
  {
   "cell_type": "markdown",
   "metadata": {},
   "source": [
    "Check out the postcode column to identify how many unique postcodes we have:"
   ]
  },
  {
   "cell_type": "code",
   "execution_count": 54,
   "metadata": {
    "scrolled": true
   },
   "outputs": [
    {
     "name": "stdout",
     "output_type": "stream",
     "text": [
      "Length of Countries: 2\n",
      "Length of Region code: 10\n",
      "Length of LA code: 335\n",
      "Length of Ward code: 8041\n"
     ]
    }
   ],
   "source": [
    "print(\"Length of Countries:\",len(X['CTRY20CD'].unique()))\n",
    "print(\"Length of Region code:\",len(X['RGN20CD'].unique()))\n",
    "print(\"Length of LA code:\",len(X['Local authority code'].unique()))\n",
    "print(\"Length of Ward code:\",len(X['Ward code'].unique()))"
   ]
  },
  {
   "cell_type": "code",
   "execution_count": 55,
   "metadata": {},
   "outputs": [],
   "source": [
    "features = ['RGN20CD','CTRY20CD','Local authority code','Year ending Mar 2017']"
   ]
  },
  {
   "cell_type": "markdown",
   "metadata": {},
   "source": [
    "## Create a train / test set and calculate a baseline"
   ]
  },
  {
   "cell_type": "code",
   "execution_count": 56,
   "metadata": {},
   "outputs": [],
   "source": [
    "from sklearn.model_selection import train_test_split\n",
    "from sklearn.ensemble import RandomForestRegressor\n",
    "from sklearn import metrics"
   ]
  },
  {
   "cell_type": "code",
   "execution_count": 57,
   "metadata": {},
   "outputs": [],
   "source": [
    "X_train, X_test, y_train, y_test = train_test_split(X, y, test_size = 0.2, stratify=X['Local authority code'], random_state = 42)"
   ]
  },
  {
   "cell_type": "markdown",
   "metadata": {},
   "source": [
    "Get a baseline prediction:"
   ]
  },
  {
   "cell_type": "code",
   "execution_count": 58,
   "metadata": {
    "scrolled": true
   },
   "outputs": [
    {
     "name": "stdout",
     "output_type": "stream",
     "text": [
      "Average baseline error: £ 67791.41\n"
     ]
    }
   ],
   "source": [
    "# Calculate the average prices within a Local Authority as a baseline map:\n",
    "baseline_map = X_train.groupby('Local authority code')['Year ending Mar 2022'].mean().to_dict()\n",
    "\n",
    "# Use the baseline price map to predict the test prices:\n",
    "y_baseline = X_test['Local authority code'].map(baseline_map)\n",
    "\n",
    "# Calculate baseline errors and display average baseline error\n",
    "baseline_errors = abs(y_baseline - y_test)\n",
    "\n",
    "print('Average baseline error: £', round(np.mean(baseline_errors), 2))"
   ]
  },
  {
   "cell_type": "code",
   "execution_count": 59,
   "metadata": {},
   "outputs": [
    {
     "name": "stdout",
     "output_type": "stream",
     "text": [
      "Accuracy: 76.99 %.\n"
     ]
    }
   ],
   "source": [
    "# Calculate mean absolute percentage error (MAPE)\n",
    "mape = 100 * (baseline_errors / y_test)\n",
    "# Calculate and display accuracy\n",
    "accuracy = 100 - np.mean(mape)\n",
    "\n",
    "print('Accuracy:', round(accuracy, 2), '%.')"
   ]
  },
  {
   "cell_type": "markdown",
   "metadata": {},
   "source": [
    "So we have to beat this accuracy with our model!"
   ]
  },
  {
   "cell_type": "markdown",
   "metadata": {},
   "source": [
    "For completeness, let's delete the target from X to be sure!"
   ]
  },
  {
   "cell_type": "code",
   "execution_count": 60,
   "metadata": {},
   "outputs": [
    {
     "name": "stderr",
     "output_type": "stream",
     "text": [
      "/opt/anaconda3/envs/kaggle/lib/python3.6/site-packages/pandas/core/frame.py:4170: SettingWithCopyWarning: \n",
      "A value is trying to be set on a copy of a slice from a DataFrame\n",
      "\n",
      "See the caveats in the documentation: https://pandas.pydata.org/pandas-docs/stable/user_guide/indexing.html#returning-a-view-versus-a-copy\n",
      "  errors=errors,\n"
     ]
    }
   ],
   "source": [
    "X_train.drop(['Year ending Mar 2022'], axis = 1, inplace = True)\n",
    "X_test.drop(['Year ending Mar 2022'], axis = 1, inplace = True)"
   ]
  },
  {
   "cell_type": "markdown",
   "metadata": {},
   "source": [
    "## Simple prediction using Random Forest"
   ]
  },
  {
   "cell_type": "markdown",
   "metadata": {},
   "source": [
    "Ordinal encode the features:"
   ]
  },
  {
   "cell_type": "code",
   "execution_count": 61,
   "metadata": {},
   "outputs": [],
   "source": [
    "enc = OrdinalEncoder(verbose=1).fit(X_train[features], y_train)\n",
    "X_train_enc = enc.transform(X_train[features])\n",
    "X_test_enc = enc.transform(X_test[features])"
   ]
  },
  {
   "cell_type": "code",
   "execution_count": 62,
   "metadata": {},
   "outputs": [
    {
     "data": {
      "text/html": [
       "<div>\n",
       "<style scoped>\n",
       "    .dataframe tbody tr th:only-of-type {\n",
       "        vertical-align: middle;\n",
       "    }\n",
       "\n",
       "    .dataframe tbody tr th {\n",
       "        vertical-align: top;\n",
       "    }\n",
       "\n",
       "    .dataframe thead th {\n",
       "        text-align: right;\n",
       "    }\n",
       "</style>\n",
       "<table border=\"1\" class=\"dataframe\">\n",
       "  <thead>\n",
       "    <tr style=\"text-align: right;\">\n",
       "      <th></th>\n",
       "      <th>RGN20CD</th>\n",
       "      <th>CTRY20CD</th>\n",
       "      <th>Local authority code</th>\n",
       "      <th>Year ending Mar 2017</th>\n",
       "    </tr>\n",
       "  </thead>\n",
       "  <tbody>\n",
       "    <tr>\n",
       "      <th>5351</th>\n",
       "      <td>10</td>\n",
       "      <td>1</td>\n",
       "      <td>250</td>\n",
       "      <td>381000.0</td>\n",
       "    </tr>\n",
       "    <tr>\n",
       "      <th>2946</th>\n",
       "      <td>10</td>\n",
       "      <td>1</td>\n",
       "      <td>268</td>\n",
       "      <td>299950.0</td>\n",
       "    </tr>\n",
       "    <tr>\n",
       "      <th>5100</th>\n",
       "      <td>10</td>\n",
       "      <td>1</td>\n",
       "      <td>330</td>\n",
       "      <td>405000.0</td>\n",
       "    </tr>\n",
       "    <tr>\n",
       "      <th>3779</th>\n",
       "      <td>6</td>\n",
       "      <td>1</td>\n",
       "      <td>91</td>\n",
       "      <td>196250.0</td>\n",
       "    </tr>\n",
       "    <tr>\n",
       "      <th>1598</th>\n",
       "      <td>5</td>\n",
       "      <td>1</td>\n",
       "      <td>24</td>\n",
       "      <td>320000.0</td>\n",
       "    </tr>\n",
       "  </tbody>\n",
       "</table>\n",
       "</div>"
      ],
      "text/plain": [
       "      RGN20CD  CTRY20CD  Local authority code  Year ending Mar 2017\n",
       "5351       10         1                   250              381000.0\n",
       "2946       10         1                   268              299950.0\n",
       "5100       10         1                   330              405000.0\n",
       "3779        6         1                    91              196250.0\n",
       "1598        5         1                    24              320000.0"
      ]
     },
     "execution_count": 62,
     "metadata": {},
     "output_type": "execute_result"
    }
   ],
   "source": [
    "X_train_enc.head()\n",
    "X_test_enc.head()"
   ]
  },
  {
   "cell_type": "markdown",
   "metadata": {},
   "source": [
    "Predict the target using a simple RF classifer on the encoded features:"
   ]
  },
  {
   "cell_type": "code",
   "execution_count": 63,
   "metadata": {},
   "outputs": [],
   "source": [
    "rf = RandomForestRegressor(n_estimators = 1000, random_state = 42)\n",
    "rf.fit(X_train_enc, y_train)\n",
    "y_pred = rf.predict(X_test_enc)"
   ]
  },
  {
   "cell_type": "code",
   "execution_count": 64,
   "metadata": {},
   "outputs": [
    {
     "name": "stdout",
     "output_type": "stream",
     "text": [
      "Mean Absolute Error: £ 31834.4\n"
     ]
    }
   ],
   "source": [
    "# Calculate the absolute errors\n",
    "errors = abs(y_pred - y_test)\n",
    "# Print out the mean absolute error (mae)\n",
    "print('Mean Absolute Error: £', round(np.mean(errors), 2))"
   ]
  },
  {
   "cell_type": "code",
   "execution_count": 65,
   "metadata": {},
   "outputs": [
    {
     "name": "stdout",
     "output_type": "stream",
     "text": [
      "Accuracy: 89.85 %.\n"
     ]
    }
   ],
   "source": [
    "# Calculate mean absolute percentage error (MAPE)\n",
    "mape = 100 * (errors / y_test)\n",
    "# Calculate and display accuracy\n",
    "accuracy = 100 - np.mean(mape)\n",
    "\n",
    "print('Accuracy:', round(accuracy, 2), '%.')"
   ]
  },
  {
   "cell_type": "code",
   "execution_count": 66,
   "metadata": {},
   "outputs": [
    {
     "name": "stdout",
     "output_type": "stream",
     "text": [
      "Variable: Year ending Mar 2017 Importance: 0.96\n",
      "Variable: Local authority code Importance: 0.03\n",
      "Variable: RGN20CD              Importance: 0.01\n",
      "Variable: CTRY20CD             Importance: 0.0\n"
     ]
    }
   ],
   "source": [
    "# Get numerical feature importances\n",
    "importances = list(rf.feature_importances_)\n",
    "\n",
    "# List of tuples with variable and importance\n",
    "feature_importances = [(feature, round(importance, 2)) for feature, importance in zip(features, importances)]# Sort the feature importances by most important first\n",
    "feature_importances = sorted(feature_importances, key = lambda x: x[1], reverse = True)\n",
    "\n",
    "# Print out the feature and importances \n",
    "[print('Variable: {:20} Importance: {}'.format(*pair)) for pair in feature_importances];"
   ]
  },
  {
   "cell_type": "markdown",
   "metadata": {},
   "source": [
    "## Prediction using target (mean) encoding"
   ]
  },
  {
   "cell_type": "code",
   "execution_count": 67,
   "metadata": {
    "scrolled": false
   },
   "outputs": [],
   "source": [
    "cols = ['Local authority code']\n",
    "tenc_cols = ['Local authority code']\n",
    "\n",
    "\n",
    "tenc = TargetEncoder(verbose=1, cols=cols, min_samples_leaf=2, smoothing=1000).fit(X_train[tenc_cols], y_train)\n",
    "X_train_tenc = tenc.transform(X_train[tenc_cols])\n",
    "X_test_tenc = tenc.transform(X_test[tenc_cols])"
   ]
  },
  {
   "cell_type": "code",
   "execution_count": 68,
   "metadata": {},
   "outputs": [],
   "source": [
    "X_train_tenc = X_train_tenc.rename({'Local authority code': 'Local authority code TE'}, axis=1)\n",
    "X_test_tenc = X_test_tenc.rename({'Local authority code': 'Local authority code TE'}, axis=1)"
   ]
  },
  {
   "cell_type": "code",
   "execution_count": 69,
   "metadata": {},
   "outputs": [],
   "source": [
    "X_train_tenc = pd.concat([X_train_tenc, X_train_enc[features]], axis=1)\n",
    "X_test_tenc = pd.concat([X_test_tenc, X_test_enc[features]], axis=1)"
   ]
  },
  {
   "cell_type": "code",
   "execution_count": 70,
   "metadata": {
    "scrolled": true
   },
   "outputs": [
    {
     "data": {
      "text/html": [
       "<div>\n",
       "<style scoped>\n",
       "    .dataframe tbody tr th:only-of-type {\n",
       "        vertical-align: middle;\n",
       "    }\n",
       "\n",
       "    .dataframe tbody tr th {\n",
       "        vertical-align: top;\n",
       "    }\n",
       "\n",
       "    .dataframe thead th {\n",
       "        text-align: right;\n",
       "    }\n",
       "</style>\n",
       "<table border=\"1\" class=\"dataframe\">\n",
       "  <thead>\n",
       "    <tr style=\"text-align: right;\">\n",
       "      <th></th>\n",
       "      <th>Local authority code TE</th>\n",
       "      <th>RGN20CD</th>\n",
       "      <th>CTRY20CD</th>\n",
       "      <th>Local authority code</th>\n",
       "      <th>Year ending Mar 2017</th>\n",
       "    </tr>\n",
       "  </thead>\n",
       "  <tbody>\n",
       "    <tr>\n",
       "      <th>2545</th>\n",
       "      <td>423851.093831</td>\n",
       "      <td>1</td>\n",
       "      <td>1</td>\n",
       "      <td>1</td>\n",
       "      <td>445000.0</td>\n",
       "    </tr>\n",
       "    <tr>\n",
       "      <th>1530</th>\n",
       "      <td>251940.274977</td>\n",
       "      <td>2</td>\n",
       "      <td>1</td>\n",
       "      <td>2</td>\n",
       "      <td>76250.0</td>\n",
       "    </tr>\n",
       "    <tr>\n",
       "      <th>7138</th>\n",
       "      <td>411207.585253</td>\n",
       "      <td>3</td>\n",
       "      <td>1</td>\n",
       "      <td>3</td>\n",
       "      <td>402500.0</td>\n",
       "    </tr>\n",
       "    <tr>\n",
       "      <th>5550</th>\n",
       "      <td>456212.581487</td>\n",
       "      <td>1</td>\n",
       "      <td>1</td>\n",
       "      <td>4</td>\n",
       "      <td>430000.0</td>\n",
       "    </tr>\n",
       "    <tr>\n",
       "      <th>6758</th>\n",
       "      <td>378479.845364</td>\n",
       "      <td>3</td>\n",
       "      <td>1</td>\n",
       "      <td>5</td>\n",
       "      <td>502000.0</td>\n",
       "    </tr>\n",
       "  </tbody>\n",
       "</table>\n",
       "</div>"
      ],
      "text/plain": [
       "      Local authority code TE  RGN20CD  CTRY20CD  Local authority code  \\\n",
       "2545            423851.093831        1         1                     1   \n",
       "1530            251940.274977        2         1                     2   \n",
       "7138            411207.585253        3         1                     3   \n",
       "5550            456212.581487        1         1                     4   \n",
       "6758            378479.845364        3         1                     5   \n",
       "\n",
       "      Year ending Mar 2017  \n",
       "2545              445000.0  \n",
       "1530               76250.0  \n",
       "7138              402500.0  \n",
       "5550              430000.0  \n",
       "6758              502000.0  "
      ]
     },
     "execution_count": 70,
     "metadata": {},
     "output_type": "execute_result"
    }
   ],
   "source": [
    "X_train_tenc.head()"
   ]
  },
  {
   "cell_type": "markdown",
   "metadata": {},
   "source": [
    "Predict using the target encoded feature:"
   ]
  },
  {
   "cell_type": "code",
   "execution_count": 71,
   "metadata": {},
   "outputs": [],
   "source": [
    "te_rf = RandomForestRegressor(n_estimators = 1000, random_state = 42)\n",
    "te_rf.fit(X_train_tenc, y_train)\n",
    "y_pred_te = te_rf.predict(X_test_tenc)"
   ]
  },
  {
   "cell_type": "code",
   "execution_count": 72,
   "metadata": {},
   "outputs": [
    {
     "name": "stdout",
     "output_type": "stream",
     "text": [
      "Mean Absolute Error: £ 31387.37\n"
     ]
    }
   ],
   "source": [
    "# Calculate the absolute errors\n",
    "errors_te = abs(y_pred_te - y_test)\n",
    "# Print out the mean absolute error (mae)\n",
    "print('Mean Absolute Error: £', round(np.mean(errors_te), 2))"
   ]
  },
  {
   "cell_type": "code",
   "execution_count": 73,
   "metadata": {},
   "outputs": [
    {
     "name": "stdout",
     "output_type": "stream",
     "text": [
      "Accuracy: 89.99 %.\n"
     ]
    }
   ],
   "source": [
    "# Calculate mean absolute percentage error (MAPE)\n",
    "mape_te = 100 * (errors_te / y_test)\n",
    "# Calculate and display accuracy\n",
    "accuracy = 100 - np.mean(mape_te)\n",
    "\n",
    "print('Accuracy:', round(accuracy, 2), '%.')"
   ]
  },
  {
   "cell_type": "code",
   "execution_count": 74,
   "metadata": {},
   "outputs": [
    {
     "name": "stdout",
     "output_type": "stream",
     "text": [
      "Variable: Year ending Mar 2017 Importance: 0.96\n",
      "Variable: Local authority code TE Importance: 0.02\n",
      "Variable: Local authority code Importance: 0.02\n",
      "Variable: RGN20CD              Importance: 0.01\n",
      "Variable: CTRY20CD             Importance: 0.0\n"
     ]
    }
   ],
   "source": [
    "# Get numerical feature importances\n",
    "importances_te = list(te_rf.feature_importances_)\n",
    "\n",
    "# List of tuples with variable and importance\n",
    "feature_importances_te = [(feature, round(importance, 2)) for feature, importance in zip(X_train_tenc.columns, importances_te)]\n",
    "# Sort the feature importances by most important first\n",
    "feature_importances_te = sorted(feature_importances_te, key = lambda x: x[1], reverse = True)\n",
    "\n",
    "# Print out the feature and importances \n",
    "[print('Variable: {:20} Importance: {}'.format(*pair)) for pair in feature_importances_te];"
   ]
  },
  {
   "cell_type": "markdown",
   "metadata": {},
   "source": [
    "## Prediction using hierarchical encoding"
   ]
  },
  {
   "cell_type": "markdown",
   "metadata": {},
   "source": [
    "For this we will require a dictionary of the lookup hierarchy:"
   ]
  },
  {
   "cell_type": "code",
   "execution_count": 75,
   "metadata": {},
   "outputs": [],
   "source": [
    "# Create a lookup dictionary of geography by codes:\n",
    "\n",
    "lookup_short = lookup[['CTRY20CD', 'RGN20CD', 'LAD20CD']]\n",
    "\n",
    "d = {'Local authority code': {k: f.groupby('RGN20CD')['LAD20CD'].unique().apply(tuple).to_dict()\n",
    "        for k, f in lookup_short.groupby('CTRY20CD')\n",
    "          for kk, ff in lookup_short.groupby('RGN20CD')\n",
    "              }}"
   ]
  },
  {
   "cell_type": "code",
   "execution_count": 76,
   "metadata": {
    "scrolled": false
   },
   "outputs": [],
   "source": [
    "cols = ['Local authority code']\n",
    "henc_cols = ['Local authority code']\n",
    "\n",
    "henc = TargetEncoder(verbose=1, hierarchy=d, cols=cols, min_samples_leaf=2, smoothing=1000).fit(X_train[henc_cols], y_train)\n",
    "X_train_henc = henc.transform(X_train[henc_cols])\n",
    "X_test_henc = henc.transform(X_test[henc_cols])"
   ]
  },
  {
   "cell_type": "code",
   "execution_count": 77,
   "metadata": {},
   "outputs": [],
   "source": [
    "X_train_henc = X_train_henc.rename({'Local authority code': 'Local authority code HE'}, axis=1)\n",
    "X_test_henc = X_test_henc.rename({'Local authority code': 'Local authority code HE'}, axis=1)"
   ]
  },
  {
   "cell_type": "code",
   "execution_count": 78,
   "metadata": {},
   "outputs": [],
   "source": [
    "X_train_henc = pd.concat([X_train_henc, X_train_enc[features]], axis=1)\n",
    "X_test_henc = pd.concat([X_test_henc, X_test_enc[features]], axis=1)"
   ]
  },
  {
   "cell_type": "code",
   "execution_count": 79,
   "metadata": {
    "scrolled": true
   },
   "outputs": [
    {
     "data": {
      "text/html": [
       "<div>\n",
       "<style scoped>\n",
       "    .dataframe tbody tr th:only-of-type {\n",
       "        vertical-align: middle;\n",
       "    }\n",
       "\n",
       "    .dataframe tbody tr th {\n",
       "        vertical-align: top;\n",
       "    }\n",
       "\n",
       "    .dataframe thead th {\n",
       "        text-align: right;\n",
       "    }\n",
       "</style>\n",
       "<table border=\"1\" class=\"dataframe\">\n",
       "  <thead>\n",
       "    <tr style=\"text-align: right;\">\n",
       "      <th></th>\n",
       "      <th>Local authority code HE</th>\n",
       "      <th>RGN20CD</th>\n",
       "      <th>CTRY20CD</th>\n",
       "      <th>Local authority code</th>\n",
       "      <th>Year ending Mar 2017</th>\n",
       "    </tr>\n",
       "  </thead>\n",
       "  <tbody>\n",
       "    <tr>\n",
       "      <th>2545</th>\n",
       "      <td>443216.103114</td>\n",
       "      <td>1</td>\n",
       "      <td>1</td>\n",
       "      <td>1</td>\n",
       "      <td>445000.0</td>\n",
       "    </tr>\n",
       "    <tr>\n",
       "      <th>1530</th>\n",
       "      <td>212847.487201</td>\n",
       "      <td>2</td>\n",
       "      <td>1</td>\n",
       "      <td>2</td>\n",
       "      <td>76250.0</td>\n",
       "    </tr>\n",
       "    <tr>\n",
       "      <th>7138</th>\n",
       "      <td>496840.033570</td>\n",
       "      <td>3</td>\n",
       "      <td>1</td>\n",
       "      <td>3</td>\n",
       "      <td>402500.0</td>\n",
       "    </tr>\n",
       "    <tr>\n",
       "      <th>5550</th>\n",
       "      <td>475675.582723</td>\n",
       "      <td>1</td>\n",
       "      <td>1</td>\n",
       "      <td>4</td>\n",
       "      <td>430000.0</td>\n",
       "    </tr>\n",
       "    <tr>\n",
       "      <th>6758</th>\n",
       "      <td>464198.526121</td>\n",
       "      <td>3</td>\n",
       "      <td>1</td>\n",
       "      <td>5</td>\n",
       "      <td>502000.0</td>\n",
       "    </tr>\n",
       "  </tbody>\n",
       "</table>\n",
       "</div>"
      ],
      "text/plain": [
       "      Local authority code HE  RGN20CD  CTRY20CD  Local authority code  \\\n",
       "2545            443216.103114        1         1                     1   \n",
       "1530            212847.487201        2         1                     2   \n",
       "7138            496840.033570        3         1                     3   \n",
       "5550            475675.582723        1         1                     4   \n",
       "6758            464198.526121        3         1                     5   \n",
       "\n",
       "      Year ending Mar 2017  \n",
       "2545              445000.0  \n",
       "1530               76250.0  \n",
       "7138              402500.0  \n",
       "5550              430000.0  \n",
       "6758              502000.0  "
      ]
     },
     "execution_count": 79,
     "metadata": {},
     "output_type": "execute_result"
    }
   ],
   "source": [
    "X_train_henc.head()"
   ]
  },
  {
   "cell_type": "markdown",
   "metadata": {},
   "source": [
    "Predict using the new hierarchical encoded feature:"
   ]
  },
  {
   "cell_type": "code",
   "execution_count": 80,
   "metadata": {},
   "outputs": [],
   "source": [
    "he_rf = RandomForestRegressor(n_estimators = 1000, random_state = 42)\n",
    "he_rf.fit(X_train_henc, y_train)\n",
    "y_pred_he = he_rf.predict(X_test_henc)"
   ]
  },
  {
   "cell_type": "code",
   "execution_count": 81,
   "metadata": {},
   "outputs": [
    {
     "name": "stdout",
     "output_type": "stream",
     "text": [
      "Mean Absolute Error: £ 31154.82\n"
     ]
    }
   ],
   "source": [
    "# Calculate the absolute errors\n",
    "errors_he = abs(y_pred_he - y_test)\n",
    "# Print out the mean absolute error (mae)\n",
    "print('Mean Absolute Error: £', round(np.mean(errors_he), 2))"
   ]
  },
  {
   "cell_type": "code",
   "execution_count": 82,
   "metadata": {},
   "outputs": [
    {
     "name": "stdout",
     "output_type": "stream",
     "text": [
      "Accuracy: 90.07 %.\n"
     ]
    }
   ],
   "source": [
    "# Calculate mean absolute percentage error (MAPE)\n",
    "mape_he = 100 * (errors_he / y_test)\n",
    "# Calculate and display accuracy\n",
    "accuracy = 100 - np.mean(mape_he)\n",
    "\n",
    "print('Accuracy:', round(accuracy, 2), '%.')"
   ]
  },
  {
   "cell_type": "code",
   "execution_count": 83,
   "metadata": {},
   "outputs": [
    {
     "name": "stdout",
     "output_type": "stream",
     "text": [
      "Variable: Year ending Mar 2017 Importance: 0.96\n",
      "Variable: Local authority code HE Importance: 0.02\n",
      "Variable: Local authority code Importance: 0.02\n",
      "Variable: RGN20CD              Importance: 0.0\n",
      "Variable: CTRY20CD             Importance: 0.0\n"
     ]
    }
   ],
   "source": [
    "# Get numerical feature importances\n",
    "importances_he = list(he_rf.feature_importances_)\n",
    "\n",
    "# List of tuples with variable and importance\n",
    "feature_importances_he = [(feature, round(importance, 2)) for feature, importance in zip(X_train_henc.columns, importances_he)]\n",
    "# Sort the feature importances by most important first\n",
    "feature_importances_he = sorted(feature_importances_he, key = lambda x: x[1], reverse = True)\n",
    "\n",
    "# Print out the feature and importances \n",
    "[print('Variable: {:20} Importance: {}'.format(*pair)) for pair in feature_importances_he];"
   ]
  }
 ],
 "metadata": {
  "kernelspec": {
   "display_name": "kaggle",
   "language": "python",
   "name": "kaggle"
  },
  "language_info": {
   "codemirror_mode": {
    "name": "ipython",
    "version": 3
   },
   "file_extension": ".py",
   "mimetype": "text/x-python",
   "name": "python",
   "nbconvert_exporter": "python",
   "pygments_lexer": "ipython3",
   "version": "3.6.12"
  }
 },
 "nbformat": 4,
 "nbformat_minor": 5
}
